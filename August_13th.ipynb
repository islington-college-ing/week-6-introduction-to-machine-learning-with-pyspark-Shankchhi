{
  "nbformat": 4,
  "nbformat_minor": 0,
  "metadata": {
    "colab": {
      "provenance": []
    },
    "kernelspec": {
      "name": "python3",
      "display_name": "Python 3"
    },
    "language_info": {
      "name": "python"
    }
  },
  "cells": [
    {
      "cell_type": "code",
      "execution_count": 2,
      "metadata": {
        "colab": {
          "base_uri": "https://localhost:8080/"
        },
        "id": "t0EDkmOpaLNo",
        "outputId": "e5d5e15a-694e-45ca-e497-a1aa732ca095"
      },
      "outputs": [
        {
          "output_type": "stream",
          "name": "stdout",
          "text": [
            "Collecting pyspark\n",
            "  Downloading pyspark-3.5.2.tar.gz (317.3 MB)\n",
            "\u001b[2K     \u001b[90m━━━━━━━━━━━━━━━━━━━━━━━━━━━━━━━━━━━━━━━━\u001b[0m \u001b[32m317.3/317.3 MB\u001b[0m \u001b[31m4.4 MB/s\u001b[0m eta \u001b[36m0:00:00\u001b[0m\n",
            "\u001b[?25h  Preparing metadata (setup.py) ... \u001b[?25l\u001b[?25hdone\n",
            "Requirement already satisfied: pandas in /usr/local/lib/python3.10/dist-packages (2.1.4)\n",
            "Requirement already satisfied: py4j==0.10.9.7 in /usr/local/lib/python3.10/dist-packages (from pyspark) (0.10.9.7)\n",
            "Requirement already satisfied: numpy<2,>=1.22.4 in /usr/local/lib/python3.10/dist-packages (from pandas) (1.26.4)\n",
            "Requirement already satisfied: python-dateutil>=2.8.2 in /usr/local/lib/python3.10/dist-packages (from pandas) (2.8.2)\n",
            "Requirement already satisfied: pytz>=2020.1 in /usr/local/lib/python3.10/dist-packages (from pandas) (2024.1)\n",
            "Requirement already satisfied: tzdata>=2022.1 in /usr/local/lib/python3.10/dist-packages (from pandas) (2024.1)\n",
            "Requirement already satisfied: six>=1.5 in /usr/local/lib/python3.10/dist-packages (from python-dateutil>=2.8.2->pandas) (1.16.0)\n",
            "Building wheels for collected packages: pyspark\n",
            "  Building wheel for pyspark (setup.py) ... \u001b[?25l\u001b[?25hdone\n",
            "  Created wheel for pyspark: filename=pyspark-3.5.2-py2.py3-none-any.whl size=317812365 sha256=c3903f6ec2391a470cd22392d8fcc26fedf3ec4333b82d11fea1a708b54603f6\n",
            "  Stored in directory: /root/.cache/pip/wheels/34/34/bd/03944534c44b677cd5859f248090daa9fb27b3c8f8e5f49574\n",
            "Successfully built pyspark\n",
            "Installing collected packages: pyspark\n",
            "Successfully installed pyspark-3.5.2\n"
          ]
        }
      ],
      "source": [
        "!pip install pyspark pandas"
      ]
    },
    {
      "cell_type": "code",
      "source": [
        "# Import necessary libraries\n",
        "from pyspark.sql import SparkSession\n"
      ],
      "metadata": {
        "id": "XNNu-OAfbv2d"
      },
      "execution_count": 5,
      "outputs": []
    },
    {
      "cell_type": "code",
      "source": [
        " # Initialize Spark session\n",
        "spark = SparkSession.builder.appName(\"HousePricePrediction\").getOrCreate()"
      ],
      "metadata": {
        "id": "VBzERW89qcEd"
      },
      "execution_count": 6,
      "outputs": []
    },
    {
      "cell_type": "code",
      "source": [
        "# Step 1: Load  Data\n",
        "# Sample dataset\n",
        "data = [(1200, 3, 2, 300000),\n",
        "(1500, 4, 3, 350000),\n",
        "(800, 2, 1, 200000),\n",
        "(2500, None, 3, 450000),\n",
        "(1800, 4, 2, 400000),\n",
        "(2500, 5, 3, 500000),\n",
        "(None, 4, 3, 400000)\n",
        "]\n"
      ],
      "metadata": {
        "id": "BELHEHOvqcBF"
      },
      "execution_count": 7,
      "outputs": []
    },
    {
      "cell_type": "code",
      "source": [
        "# Define schema\n",
        "columns = [\"SquareFootage\", \"Bedrooms\", \"Bathrooms\", \"Price\"]\n",
        "\n"
      ],
      "metadata": {
        "id": "gj02VEdGcCP8"
      },
      "execution_count": 8,
      "outputs": []
    },
    {
      "cell_type": "code",
      "source": [
        "# Create DataFrame\n",
        "df = spark.createDataFrame(data, schema=columns)\n",
        "df.show()"
      ],
      "metadata": {
        "id": "jW_ItfgQdBzy",
        "colab": {
          "base_uri": "https://localhost:8080/"
        },
        "outputId": "1390df8e-a756-49d1-97c1-2667e1a35af6"
      },
      "execution_count": 9,
      "outputs": [
        {
          "output_type": "stream",
          "name": "stdout",
          "text": [
            "+-------------+--------+---------+------+\n",
            "|SquareFootage|Bedrooms|Bathrooms| Price|\n",
            "+-------------+--------+---------+------+\n",
            "|         1200|       3|        2|300000|\n",
            "|         1500|       4|        3|350000|\n",
            "|          800|       2|        1|200000|\n",
            "|         2500|    NULL|        3|450000|\n",
            "|         1800|       4|        2|400000|\n",
            "|         2500|       5|        3|500000|\n",
            "|         NULL|       4|        3|400000|\n",
            "+-------------+--------+---------+------+\n",
            "\n"
          ]
        }
      ]
    },
    {
      "cell_type": "code",
      "source": [
        " # Step 2: Data Preprocessing\n",
        "from pyspark.ml.feature import VectorAssembler, StandardScaler"
      ],
      "metadata": {
        "id": "QO-AWauZdEPH"
      },
      "execution_count": 10,
      "outputs": []
    },
    {
      "cell_type": "code",
      "source": [
        "# Check for missing values\n",
        "df.describe().show()\n"
      ],
      "metadata": {
        "colab": {
          "base_uri": "https://localhost:8080/"
        },
        "id": "ODWHHnGbdGfy",
        "outputId": "ae627001-375d-4061-f56f-fe38d4ef1e4e"
      },
      "execution_count": 11,
      "outputs": [
        {
          "output_type": "stream",
          "name": "stdout",
          "text": [
            "+-------+------------------+------------------+------------------+-----------------+\n",
            "|summary|     SquareFootage|          Bedrooms|         Bathrooms|            Price|\n",
            "+-------+------------------+------------------+------------------+-----------------+\n",
            "|  count|                 6|                 6|                 7|                7|\n",
            "|   mean|1716.6666666666667|3.6666666666666665|2.4285714285714284|371428.5714285714|\n",
            "| stddev| 691.1343333004565|1.0327955589886444|0.7867957924694432| 99402.9797388005|\n",
            "|    min|               800|                 2|                 1|           200000|\n",
            "|    max|              2500|                 5|                 3|           500000|\n",
            "+-------+------------------+------------------+------------------+-----------------+\n",
            "\n"
          ]
        }
      ]
    },
    {
      "cell_type": "code",
      "source": [
        " # Fill missing values (if any) with mean of the column\n",
        "df = df.na.fill({\n",
        "'SquareFootage': df.agg({'SquareFootage': 'mean'}).collect()[0][0],\n",
        "'Bedrooms': df.agg({'Bedrooms': 'mean'}).collect()[0][0],\n",
        "'Bathrooms': df.agg({'Bathrooms': 'mean'}).collect()[0][0]\n",
        "})\n",
        "df.show()"
      ],
      "metadata": {
        "colab": {
          "base_uri": "https://localhost:8080/"
        },
        "id": "lex-FE1RdPS1",
        "outputId": "6e73b537-ab65-449b-fa81-00860bdc7d0d"
      },
      "execution_count": 12,
      "outputs": [
        {
          "output_type": "stream",
          "name": "stdout",
          "text": [
            "+-------------+--------+---------+------+\n",
            "|SquareFootage|Bedrooms|Bathrooms| Price|\n",
            "+-------------+--------+---------+------+\n",
            "|         1200|       3|        2|300000|\n",
            "|         1500|       4|        3|350000|\n",
            "|          800|       2|        1|200000|\n",
            "|         2500|       3|        3|450000|\n",
            "|         1800|       4|        2|400000|\n",
            "|         2500|       5|        3|500000|\n",
            "|         1716|       4|        3|400000|\n",
            "+-------------+--------+---------+------+\n",
            "\n"
          ]
        }
      ]
    },
    {
      "cell_type": "code",
      "source": [
        "# Normalize the features using StandardScaler if needed:\n",
        "# Assemble features into a vector\n",
        "assembler = VectorAssembler(inputCols=[\"SquareFootage\", \"Bedrooms\",\n",
        "\"Bathrooms\"], outputCol=\"unscaled_features\")\n",
        "output = assembler.transform(df)\n"
      ],
      "metadata": {
        "id": "QYmamRFydSH1"
      },
      "execution_count": 13,
      "outputs": []
    },
    {
      "cell_type": "code",
      "source": [
        "# Scale features\n",
        "scaler = StandardScaler(inputCol=\"unscaled_features\", outputCol=\"features\",\n",
        "withStd=True, withMean=True)\n",
        "scaler_model = scaler.fit(output)\n",
        "scaled_output = scaler_model.transform(output)\n"
      ],
      "metadata": {
        "id": "biymZ0Aod6_u"
      },
      "execution_count": 14,
      "outputs": []
    },
    {
      "cell_type": "code",
      "source": [
        " # Show scaled features\n",
        "scaled_output.select(\"features\", \"Price\").show()"
      ],
      "metadata": {
        "id": "NNZmFsBbeC6_",
        "colab": {
          "base_uri": "https://localhost:8080/"
        },
        "outputId": "6f47975c-3f3f-45d7-81c9-4c820d9ba157"
      },
      "execution_count": 15,
      "outputs": [
        {
          "output_type": "stream",
          "name": "stdout",
          "text": [
            "+--------------------+------+\n",
            "|            features| Price|\n",
            "+--------------------+------+\n",
            "|[-0.8187635537508...|300000|\n",
            "|[-0.3432648084862...|350000|\n",
            "|[-1.4527618807703...|200000|\n",
            "|[1.24173100906247...|450000|\n",
            "|[0.13223393677835...|400000|\n",
            "|[1.24173100906247...|500000|\n",
            "|[-9.0571189574193...|400000|\n",
            "+--------------------+------+\n",
            "\n"
          ]
        }
      ]
    },
    {
      "cell_type": "code",
      "source": [
        "# Split the data into training and test sets\n",
        "train_data, test_data = scaled_output.randomSplit([0.8, 0.2])\n",
        "\n"
      ],
      "metadata": {
        "id": "k4OXhS2neEMX"
      },
      "execution_count": 23,
      "outputs": []
    },
    {
      "cell_type": "code",
      "source": [
        "# Step 3: Model Training\n",
        "from pyspark.ml.regression import LinearRegression\n",
        "\n",
        "\n",
        "\n"
      ],
      "metadata": {
        "id": "u3GBUyaBeIcJ"
      },
      "execution_count": 24,
      "outputs": []
    },
    {
      "cell_type": "code",
      "source": [
        "# Initialize the linear regression model\n",
        "lr = LinearRegression(labelCol=\"Price\", featuresCol=\"features\")\n"
      ],
      "metadata": {
        "id": "KzcsxPnsmSJe"
      },
      "execution_count": 25,
      "outputs": []
    },
    {
      "cell_type": "code",
      "source": [
        "# Fit the model to the training data\n",
        "model = lr.fit(train_data)"
      ],
      "metadata": {
        "id": "sdmHwXHXtla3"
      },
      "execution_count": 26,
      "outputs": []
    },
    {
      "cell_type": "code",
      "source": [
        "# Step 4: Model Evaluation\n",
        "from pyspark.ml.evaluation import RegressionEvaluator\n"
      ],
      "metadata": {
        "id": "SJiinzx8tmT_"
      },
      "execution_count": 28,
      "outputs": []
    },
    {
      "cell_type": "code",
      "source": [
        "# Make predictions on the test data\n",
        "predictions = model.transform(test_data)\n",
        "predictions.select(\"features\", \"Price\", \"prediction\").show()\n"
      ],
      "metadata": {
        "colab": {
          "base_uri": "https://localhost:8080/"
        },
        "id": "N6RA6Fm5tzOs",
        "outputId": "cba6c62a-6341-4892-c04a-8696707d2905"
      },
      "execution_count": 29,
      "outputs": [
        {
          "output_type": "stream",
          "name": "stdout",
          "text": [
            "+--------------------+------+-----------------+\n",
            "|            features| Price|       prediction|\n",
            "+--------------------+------+-----------------+\n",
            "|[-9.0571189574193...|400000|457999.9999999798|\n",
            "|[1.24173100906247...|450000|1049999.999999836|\n",
            "|[1.24173100906247...|500000|649999.9999999648|\n",
            "+--------------------+------+-----------------+\n",
            "\n"
          ]
        }
      ]
    },
    {
      "cell_type": "code",
      "source": [
        "# Evaluate the model's performance\n",
        "evaluator = RegressionEvaluator(labelCol=\"Price\", predictionCol=\"prediction\",\n",
        "metricName=\"rmse\")\n",
        "rmse = evaluator.evaluate(predictions)\n",
        "print(f\"Root Mean Squared Error (RMSE): {rmse}\")\n"
      ],
      "metadata": {
        "colab": {
          "base_uri": "https://localhost:8080/"
        },
        "id": "ckaMutLPu-SH",
        "outputId": "3d3b9088-37bf-4a75-b416-a0d552e334a0"
      },
      "execution_count": 30,
      "outputs": [
        {
          "output_type": "stream",
          "name": "stdout",
          "text": [
            "Root Mean Squared Error (RMSE): 358638.16491453256\n"
          ]
        }
      ]
    },
    {
      "cell_type": "code",
      "source": [
        "# Make predictions on the test data\n",
        "predictions = model.transform(test_data)\n"
      ],
      "metadata": {
        "id": "jbEiWxTHvAO7"
      },
      "execution_count": 31,
      "outputs": []
    },
    {
      "cell_type": "code",
      "source": [
        "# Calculate R-squared\n",
        "evaluator_r2 = RegressionEvaluator(labelCol=\"Price\", predictionCol=\"prediction\",\n",
        "metricName=\"r2\")\n",
        "r2 = evaluator_r2.evaluate(predictions)\n",
        "print(f\"R-squared (R²): {r2}\")\n"
      ],
      "metadata": {
        "colab": {
          "base_uri": "https://localhost:8080/"
        },
        "id": "ufTJFAEHvCIW",
        "outputId": "8659f527-f906-4237-a753-22f1f9375123"
      },
      "execution_count": 32,
      "outputs": [
        {
          "output_type": "stream",
          "name": "stdout",
          "text": [
            "R-squared (R²): -76.17279999995809\n"
          ]
        }
      ]
    },
    {
      "cell_type": "code",
      "source": [
        "# Calculate Mean Absolute Error (MAE)\n",
        "evaluator_mae = RegressionEvaluator(\n",
        "labelCol=\"Price\", predictionCol=\"prediction\", metricName=\"mae\"\n",
        ")\n",
        "mae = evaluator_mae.evaluate(predictions)\n",
        "print(f\"Mean Absolute Error (MAE): {mae}\")"
      ],
      "metadata": {
        "colab": {
          "base_uri": "https://localhost:8080/"
        },
        "id": "KFadqM7mvD8k",
        "outputId": "80ed5b19-3758-4db6-98fc-0b24fbb16af3"
      },
      "execution_count": 33,
      "outputs": [
        {
          "output_type": "stream",
          "name": "stdout",
          "text": [
            "Mean Absolute Error (MAE): 269333.3333332602\n"
          ]
        }
      ]
    },
    {
      "cell_type": "code",
      "source": [
        "# Save the model for future use\n",
        "model.write().overwrite().save(\"house_price_model\")\n"
      ],
      "metadata": {
        "id": "lDWz15r9vFOH"
      },
      "execution_count": 34,
      "outputs": []
    },
    {
      "cell_type": "code",
      "source": [
        "# PREDICT Price for given data (SquareFootage:1600, Bedrooms:3, Bathrooms:2 ::\n",
        "from pyspark.ml.regression import LinearRegressionModel\n"
      ],
      "metadata": {
        "id": "jRQGQXL1vKvQ"
      },
      "execution_count": 36,
      "outputs": []
    },
    {
      "cell_type": "code",
      "source": [
        "# Load the saved model\n",
        "model = LinearRegressionModel.load(\"house_price_model\")\n"
      ],
      "metadata": {
        "id": "78UjJEhpvM4-"
      },
      "execution_count": 37,
      "outputs": []
    },
    {
      "cell_type": "code",
      "source": [
        "# New data example (SquareFootage, Bedrooms, Bathrooms)\n",
        "new_df = spark.createDataFrame([(1600, 3, 2)], schema=[\"SquareFootage\",\n",
        "\"Bedrooms\", \"Bathrooms\"])\n"
      ],
      "metadata": {
        "id": "XiSaAQbyvTyb"
      },
      "execution_count": 38,
      "outputs": []
    },
    {
      "cell_type": "code",
      "source": [
        "# Assemble features into a single vector (no need to scale if the model was trained on unscaled data)\n",
        "assembler = VectorAssembler(inputCols=[\"SquareFootage\", \"Bedrooms\",\n",
        "\"Bathrooms\"], outputCol=\"features\")\n",
        "new_vector_data = assembler.transform(new_df)\n"
      ],
      "metadata": {
        "id": "ETYK2A09vVku"
      },
      "execution_count": 40,
      "outputs": []
    },
    {
      "cell_type": "code",
      "source": [
        "# Make prediction\n",
        "new_predictions = model.transform(new_vector_data)\n",
        "# Show the prediction\n",
        "new_predictions.show()"
      ],
      "metadata": {
        "colab": {
          "base_uri": "https://localhost:8080/"
        },
        "id": "i9nIAkz5vXCI",
        "outputId": "34cd6dfa-b64d-4575-c5be-1953d7a1c9d4"
      },
      "execution_count": 41,
      "outputs": [
        {
          "output_type": "stream",
          "name": "stdout",
          "text": [
            "+-------------+--------+---------+----------------+-------------------+\n",
            "|SquareFootage|Bedrooms|Bathrooms|        features|         prediction|\n",
            "+-------------+--------+---------+----------------+-------------------+\n",
            "|         1600|       3|        2|[1600.0,3.0,2.0]|5.047918693312821E8|\n",
            "+-------------+--------+---------+----------------+-------------------+\n",
            "\n"
          ]
        }
      ]
    },
    {
      "cell_type": "code",
      "source": [],
      "metadata": {
        "id": "2jqQQUTBvZ1U"
      },
      "execution_count": null,
      "outputs": []
    }
  ]
}